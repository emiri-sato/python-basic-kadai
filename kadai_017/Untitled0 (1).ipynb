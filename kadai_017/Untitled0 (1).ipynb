{
  "nbformat": 4,
  "nbformat_minor": 0,
  "metadata": {
    "colab": {
      "provenance": []
    },
    "kernelspec": {
      "name": "python3",
      "display_name": "Python 3"
    },
    "language_info": {
      "name": "python"
    }
  },
  "cells": [
    {
      "cell_type": "code",
      "source": [
        "from collections.abc import AsyncGenerator\n",
        "class Human:\n",
        "  def __init__(self,name,age):\n",
        "    self.name=name\n",
        "    self.age=age\n",
        "\n",
        "  def check_about(self):\n",
        "    if 20 <= self.age:\n",
        "        print(f\"{self.name}は大人です\")\n",
        "    else:\n",
        "      print(f\"{self.name}大人ではありません\")\n",
        "\n",
        "parson_list =[\n",
        "    Human(\"侍太郎\",22),\n",
        "    Human(\"侍一郎\",18),\n",
        "    Human(\"侍次郎\",31),\n",
        "    Human(\"侍花子\",19),\n",
        "    Human(\"侍桃子\",20)\n",
        "]\n",
        "\n",
        "for human in parson_list:\n",
        "  human.check_about()"
      ],
      "metadata": {
        "colab": {
          "base_uri": "https://localhost:8080/"
        },
        "id": "VN4u6dGDEMR9",
        "outputId": "daf2f859-1844-464a-f84c-2b2ea30802a6"
      },
      "execution_count": 5,
      "outputs": [
        {
          "output_type": "stream",
          "name": "stdout",
          "text": [
            "侍太郎は大人です\n",
            "侍一郎大人ではありません\n",
            "侍次郎は大人です\n",
            "侍花子大人ではありません\n",
            "侍桃子は大人です\n"
          ]
        }
      ]
    },
    {
      "cell_type": "code",
      "source": [],
      "metadata": {
        "id": "hCNwXgtYEKTF"
      },
      "execution_count": null,
      "outputs": []
    }
  ]
}