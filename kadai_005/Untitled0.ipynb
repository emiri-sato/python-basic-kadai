{
  "nbformat": 4,
  "nbformat_minor": 0,
  "metadata": {
    "colab": {
      "provenance": []
    },
    "kernelspec": {
      "name": "python3",
      "display_name": "Python 3"
    },
    "language_info": {
      "name": "python"
    }
  },
  "cells": [
    {
      "cell_type": "code",
      "execution_count": 7,
      "metadata": {
        "colab": {
          "base_uri": "https://localhost:8080/"
        },
        "id": "6K0oE_rI__cX",
        "outputId": "7ed41490-f9d6-4a16-8233-abb319aac4b9"
      },
      "outputs": [
        {
          "output_type": "stream",
          "name": "stdout",
          "text": [
            "75.0㎠\n"
          ]
        }
      ],
      "source": [
        "top_side=10\n",
        "bottom_side=20\n",
        "higth=5\n",
        "result=((top_side+bottom_side)*higth)/2\n",
        "print(f\"{result}㎠\")"
      ]
    }
  ]
}