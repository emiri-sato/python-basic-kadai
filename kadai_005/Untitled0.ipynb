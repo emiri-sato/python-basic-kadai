{
  "nbformat": 4,
  "nbformat_minor": 0,
  "metadata": {
    "colab": {
      "provenance": []
    },
    "kernelspec": {
      "name": "python3",
      "display_name": "Python 3"
    },
    "language_info": {
      "name": "python"
    }
  },
  "cells": [
    {
      "cell_type": "code",
      "execution_count": 9,
      "metadata": {
        "colab": {
          "base_uri": "https://localhost:8080/"
        },
        "id": "6K0oE_rI__cX",
        "outputId": "c11e13c5-c1e5-44cf-ec7a-369587c02519"
      },
      "outputs": [
        {
          "output_type": "stream",
          "name": "stdout",
          "text": [
            "75.0cm²\n"
          ]
        }
      ],
      "source": [
        "top_side=10\n",
        "bottom_side=20\n",
        "height=5\n",
        "result=((top_side+bottom_side)*height)/2\n",
        "print(f\"{result}cm²\")"
      ]
    }
  ]
}