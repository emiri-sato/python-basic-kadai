{
  "nbformat": 4,
  "nbformat_minor": 0,
  "metadata": {
    "colab": {
      "provenance": []
    },
    "kernelspec": {
      "name": "python3",
      "display_name": "Python 3"
    },
    "language_info": {
      "name": "python"
    }
  },
  "cells": [
    {
      "cell_type": "code",
      "execution_count": 13,
      "metadata": {
        "colab": {
          "base_uri": "https://localhost:8080/"
        },
        "id": "3LpqHaMvHhou",
        "outputId": "9052813a-a1a6-4bd5-810c-ce81a446d917"
      },
      "outputs": [
        {
          "output_type": "stream",
          "name": "stdout",
          "text": [
            "消費税込みの金額は121.0円です。\n"
          ]
        }
      ],
      "source": [
        "def consumption_tax(price,tax)->int:\n",
        "  total=price+(price*tax/100)\n",
        "  return total\n",
        "\n",
        "result=consumption_tax(110,10)\n",
        "print(f\"消費税込みの金額は{result}円です。\")"
      ]
    }
  ]
}