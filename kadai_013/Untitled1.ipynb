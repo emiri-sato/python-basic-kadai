{
  "nbformat": 4,
  "nbformat_minor": 0,
  "metadata": {
    "colab": {
      "provenance": []
    },
    "kernelspec": {
      "name": "python3",
      "display_name": "Python 3"
    },
    "language_info": {
      "name": "python"
    }
  },
  "cells": [
    {
      "cell_type": "code",
      "execution_count": 11,
      "metadata": {
        "colab": {
          "base_uri": "https://localhost:8080/"
        },
        "id": "3LpqHaMvHhou",
        "outputId": "a678bb61-b238-4e24-f0fa-9e9dcc6c7bfe"
      },
      "outputs": [
        {
          "output_type": "stream",
          "name": "stdout",
          "text": [
            "消費税込みの金額は121円です。\n"
          ]
        }
      ],
      "source": [
        "def consumption_tax(price,tax)->int:\n",
        "  tax=price*0.10\n",
        "  total=price+tax\n",
        "  return int(total)\n",
        "\n",
        "result=consumption_tax(110,10)\n",
        "print(f\"消費税込みの金額は{result}円です。\")"
      ]
    }
  ]
}