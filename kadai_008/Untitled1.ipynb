{
  "nbformat": 4,
  "nbformat_minor": 0,
  "metadata": {
    "colab": {
      "provenance": []
    },
    "kernelspec": {
      "name": "python3",
      "display_name": "Python 3"
    },
    "language_info": {
      "name": "python"
    }
  },
  "cells": [
    {
      "cell_type": "code",
      "execution_count": 10,
      "metadata": {
        "colab": {
          "base_uri": "https://localhost:8080/"
        },
        "id": "3LpqHaMvHhou",
        "outputId": "2b1b7ffc-34d7-4b34-e750-30e269e3e160"
      },
      "outputs": [
        {
          "output_type": "stream",
          "name": "stdout",
          "text": [
            "FizzBuzz\n"
          ]
        }
      ],
      "source": [
        "num=30\n",
        "if num%3==0 and num%5==0:\n",
        "    print(\"FizzBuzz\")\n",
        "elif num%3==0:\n",
        "    print(\"Fizz\")\n",
        "elif num%5==0 :\n",
        "    print(\"Buzz\")\n",
        "else:\n",
        "    print(num)"
      ]
    }
  ]
}